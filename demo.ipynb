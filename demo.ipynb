{
 "cells": [
  {
   "cell_type": "markdown",
   "id": "9709c642",
   "metadata": {},
   "source": [
    "## DeepEntropyScaling Model Demo\n",
    "\n",
    "In this notebook we show how easy it is to use the DeepEntropyScaling model.\n",
    "Please install PyTorch and the feos package first.\n",
    "\n",
    "The experimental references are freely available DDB data."
   ]
  },
  {
   "cell_type": "code",
   "execution_count": 1,
   "id": "e6bb5815",
   "metadata": {},
   "outputs": [],
   "source": [
    "import pandas as pd\n",
    "import numpy as np\n",
    "import matplotlib.pyplot as plt\n",
    "import json, toml\n",
    "import os\n",
    "\n",
    "from deep_entropy_scaling.nn_training import load_model0\n",
    "from deep_entropy_scaling.utils import get_entropy\n",
    "from deep_entropy_scaling.nn_dataset import dataset, minmax_to_json, minmax_from_json\n"
   ]
  },
  {
   "cell_type": "markdown",
   "id": "24f7c47d",
   "metadata": {},
   "source": [
    "### Load PC-SAFT parameters\n",
    "\n",
    "At first we load the PC-SAFT parameters. The model is optimized using SAFT parameter from Winter. We recommend relying on parameters from this dataset. Especially when parameters are only optimised for one species, they can degenerate. Such parameters do not represent the underlying species properly and are not suited for predictions."
   ]
  },
  {
   "cell_type": "code",
   "execution_count": 2,
   "id": "abefad51",
   "metadata": {},
   "outputs": [
    {
     "data": {
      "text/html": [
       "<div>\n",
       "<style scoped>\n",
       "    .dataframe tbody tr th:only-of-type {\n",
       "        vertical-align: middle;\n",
       "    }\n",
       "\n",
       "    .dataframe tbody tr th {\n",
       "        vertical-align: top;\n",
       "    }\n",
       "\n",
       "    .dataframe thead th {\n",
       "        text-align: right;\n",
       "    }\n",
       "</style>\n",
       "<table border=\"1\" class=\"dataframe\">\n",
       "  <thead>\n",
       "    <tr style=\"text-align: right;\">\n",
       "      <th></th>\n",
       "      <th>names</th>\n",
       "      <th>molarweight</th>\n",
       "      <th>m</th>\n",
       "      <th>sigma</th>\n",
       "      <th>epsilon_k</th>\n",
       "      <th>mu</th>\n",
       "      <th>kappa_ab</th>\n",
       "      <th>epsilon_k_ab</th>\n",
       "      <th>isomeric_smiles</th>\n",
       "    </tr>\n",
       "  </thead>\n",
       "  <tbody>\n",
       "    <tr>\n",
       "      <th>0</th>\n",
       "      <td>butan-1-ol</td>\n",
       "      <td>74.073</td>\n",
       "      <td>3.66387</td>\n",
       "      <td>3.24366</td>\n",
       "      <td>232.69184</td>\n",
       "      <td>0</td>\n",
       "      <td>0.01435</td>\n",
       "      <td>2163.47788</td>\n",
       "      <td>CCCCO</td>\n",
       "    </tr>\n",
       "  </tbody>\n",
       "</table>\n",
       "</div>"
      ],
      "text/plain": [
       "        names  molarweight        m    sigma  epsilon_k  mu  kappa_ab  \\\n",
       "0  butan-1-ol       74.073  3.66387  3.24366  232.69184   0   0.01435   \n",
       "\n",
       "   epsilon_k_ab isomeric_smiles  \n",
       "0    2163.47788           CCCCO  "
      ]
     },
     "execution_count": 2,
     "metadata": {},
     "output_type": "execute_result"
    }
   ],
   "source": [
    "saft = pd.read_csv( \"demo_data/saft_paras_demo.csv\" )\n",
    "saft"
   ]
  },
  {
   "cell_type": "markdown",
   "id": "8bed8a9f",
   "metadata": {},
   "source": [
    "### Load data\n",
    "\n",
    "Now we can load the data we want to predict viscosities for. We assume SI units i.e. temperature in K and pressure in Pascal. Furthermore we recommend to add state information about what phase a state point belongs to. Here all datapoints are in the liquid phase.\n",
    "\n",
    "After loading the data we assign PC-SAFT parameters to every sample."
   ]
  },
  {
   "cell_type": "code",
   "execution_count": 3,
   "id": "5a3eb024",
   "metadata": {},
   "outputs": [
    {
     "data": {
      "text/html": [
       "<div>\n",
       "<style scoped>\n",
       "    .dataframe tbody tr th:only-of-type {\n",
       "        vertical-align: middle;\n",
       "    }\n",
       "\n",
       "    .dataframe tbody tr th {\n",
       "        vertical-align: top;\n",
       "    }\n",
       "\n",
       "    .dataframe thead th {\n",
       "        text-align: right;\n",
       "    }\n",
       "</style>\n",
       "<table border=\"1\" class=\"dataframe\">\n",
       "  <thead>\n",
       "    <tr style=\"text-align: right;\">\n",
       "      <th></th>\n",
       "      <th>temperature</th>\n",
       "      <th>pressure</th>\n",
       "      <th>viscosity</th>\n",
       "      <th>state</th>\n",
       "      <th>Reference</th>\n",
       "      <th>density</th>\n",
       "      <th>names</th>\n",
       "      <th>molarweight</th>\n",
       "      <th>m</th>\n",
       "      <th>sigma</th>\n",
       "      <th>...</th>\n",
       "      <th>epsilon_k_ab</th>\n",
       "      <th>mu</th>\n",
       "      <th>resd_entropy</th>\n",
       "      <th>molar_density</th>\n",
       "      <th>value</th>\n",
       "      <th>log_value</th>\n",
       "      <th>iupac_name</th>\n",
       "      <th>cas</th>\n",
       "      <th>family</th>\n",
       "      <th>red_resd_entropy</th>\n",
       "    </tr>\n",
       "  </thead>\n",
       "  <tbody>\n",
       "    <tr>\n",
       "      <th>0</th>\n",
       "      <td>203.15</td>\n",
       "      <td>10000</td>\n",
       "      <td>0.10900</td>\n",
       "      <td>liquid</td>\n",
       "      <td>3</td>\n",
       "      <td>NaN</td>\n",
       "      <td>butan-1-ol</td>\n",
       "      <td>74.073</td>\n",
       "      <td>3.66387</td>\n",
       "      <td>3.24366</td>\n",
       "      <td>...</td>\n",
       "      <td>2163.47788</td>\n",
       "      <td>0</td>\n",
       "      <td>15.916293</td>\n",
       "      <td>11953.764936</td>\n",
       "      <td>0.10900</td>\n",
       "      <td>-2.216407</td>\n",
       "      <td>butan-1-ol</td>\n",
       "      <td>71-36-3</td>\n",
       "      <td>n-alcohols</td>\n",
       "      <td>4.344121</td>\n",
       "    </tr>\n",
       "    <tr>\n",
       "      <th>1</th>\n",
       "      <td>203.15</td>\n",
       "      <td>500000</td>\n",
       "      <td>0.11042</td>\n",
       "      <td>liquid</td>\n",
       "      <td>3</td>\n",
       "      <td>NaN</td>\n",
       "      <td>butan-1-ol</td>\n",
       "      <td>74.073</td>\n",
       "      <td>3.66387</td>\n",
       "      <td>3.24366</td>\n",
       "      <td>...</td>\n",
       "      <td>2163.47788</td>\n",
       "      <td>0</td>\n",
       "      <td>15.921248</td>\n",
       "      <td>11956.971857</td>\n",
       "      <td>0.11042</td>\n",
       "      <td>-2.203464</td>\n",
       "      <td>butan-1-ol</td>\n",
       "      <td>71-36-3</td>\n",
       "      <td>n-alcohols</td>\n",
       "      <td>4.345473</td>\n",
       "    </tr>\n",
       "    <tr>\n",
       "      <th>2</th>\n",
       "      <td>203.15</td>\n",
       "      <td>1000000</td>\n",
       "      <td>0.11245</td>\n",
       "      <td>liquid</td>\n",
       "      <td>3</td>\n",
       "      <td>NaN</td>\n",
       "      <td>butan-1-ol</td>\n",
       "      <td>74.073</td>\n",
       "      <td>3.66387</td>\n",
       "      <td>3.24366</td>\n",
       "      <td>...</td>\n",
       "      <td>2163.47788</td>\n",
       "      <td>0</td>\n",
       "      <td>15.926299</td>\n",
       "      <td>11960.238568</td>\n",
       "      <td>0.11245</td>\n",
       "      <td>-2.185247</td>\n",
       "      <td>butan-1-ol</td>\n",
       "      <td>71-36-3</td>\n",
       "      <td>n-alcohols</td>\n",
       "      <td>4.346851</td>\n",
       "    </tr>\n",
       "    <tr>\n",
       "      <th>3</th>\n",
       "      <td>213.15</td>\n",
       "      <td>10000</td>\n",
       "      <td>0.05752</td>\n",
       "      <td>liquid</td>\n",
       "      <td>3</td>\n",
       "      <td>NaN</td>\n",
       "      <td>butan-1-ol</td>\n",
       "      <td>74.073</td>\n",
       "      <td>3.66387</td>\n",
       "      <td>3.24366</td>\n",
       "      <td>...</td>\n",
       "      <td>2163.47788</td>\n",
       "      <td>0</td>\n",
       "      <td>15.370306</td>\n",
       "      <td>11829.232351</td>\n",
       "      <td>0.05752</td>\n",
       "      <td>-2.855623</td>\n",
       "      <td>butan-1-ol</td>\n",
       "      <td>71-36-3</td>\n",
       "      <td>n-alcohols</td>\n",
       "      <td>4.195101</td>\n",
       "    </tr>\n",
       "    <tr>\n",
       "      <th>4</th>\n",
       "      <td>213.15</td>\n",
       "      <td>500000</td>\n",
       "      <td>0.05857</td>\n",
       "      <td>liquid</td>\n",
       "      <td>3</td>\n",
       "      <td>NaN</td>\n",
       "      <td>butan-1-ol</td>\n",
       "      <td>74.073</td>\n",
       "      <td>3.66387</td>\n",
       "      <td>3.24366</td>\n",
       "      <td>...</td>\n",
       "      <td>2163.47788</td>\n",
       "      <td>0</td>\n",
       "      <td>15.375184</td>\n",
       "      <td>11832.514309</td>\n",
       "      <td>0.05857</td>\n",
       "      <td>-2.837533</td>\n",
       "      <td>butan-1-ol</td>\n",
       "      <td>71-36-3</td>\n",
       "      <td>n-alcohols</td>\n",
       "      <td>4.196433</td>\n",
       "    </tr>\n",
       "  </tbody>\n",
       "</table>\n",
       "<p>5 rows × 22 columns</p>\n",
       "</div>"
      ],
      "text/plain": [
       "   temperature  pressure  viscosity   state  Reference  density       names  \\\n",
       "0       203.15     10000    0.10900  liquid          3      NaN  butan-1-ol   \n",
       "1       203.15    500000    0.11042  liquid          3      NaN  butan-1-ol   \n",
       "2       203.15   1000000    0.11245  liquid          3      NaN  butan-1-ol   \n",
       "3       213.15     10000    0.05752  liquid          3      NaN  butan-1-ol   \n",
       "4       213.15    500000    0.05857  liquid          3      NaN  butan-1-ol   \n",
       "\n",
       "   molarweight        m    sigma  ...  epsilon_k_ab  mu  resd_entropy  \\\n",
       "0       74.073  3.66387  3.24366  ...    2163.47788   0     15.916293   \n",
       "1       74.073  3.66387  3.24366  ...    2163.47788   0     15.921248   \n",
       "2       74.073  3.66387  3.24366  ...    2163.47788   0     15.926299   \n",
       "3       74.073  3.66387  3.24366  ...    2163.47788   0     15.370306   \n",
       "4       74.073  3.66387  3.24366  ...    2163.47788   0     15.375184   \n",
       "\n",
       "   molar_density    value  log_value  iupac_name      cas      family  \\\n",
       "0   11953.764936  0.10900  -2.216407  butan-1-ol  71-36-3  n-alcohols   \n",
       "1   11956.971857  0.11042  -2.203464  butan-1-ol  71-36-3  n-alcohols   \n",
       "2   11960.238568  0.11245  -2.185247  butan-1-ol  71-36-3  n-alcohols   \n",
       "3   11829.232351  0.05752  -2.855623  butan-1-ol  71-36-3  n-alcohols   \n",
       "4   11832.514309  0.05857  -2.837533  butan-1-ol  71-36-3  n-alcohols   \n",
       "\n",
       "  red_resd_entropy  \n",
       "0         4.344121  \n",
       "1         4.345473  \n",
       "2         4.346851  \n",
       "3         4.195101  \n",
       "4         4.196433  \n",
       "\n",
       "[5 rows x 22 columns]"
      ]
     },
     "execution_count": 3,
     "metadata": {},
     "output_type": "execute_result"
    }
   ],
   "source": [
    "data_path = \"demo_data/butanol_data.csv\"\n",
    "\n",
    "data = pd.read_csv(data_path)\n",
    "para_cols = ['molarweight', 'm','sigma', 'epsilon_k', 'kappa_ab','epsilon_k_ab','mu']\n",
    "for pcol in para_cols:\n",
    "    data[pcol] = saft[pcol].iloc[0]\n",
    "\n",
    "data = data.apply( get_entropy , axis=1 )\n",
    "data[\"value\"] = data[\"viscosity\"]\n",
    "data[\"log_value\"] = np.log(data[\"viscosity\"])\n",
    "data['iupac_name'] = \"butan-1-ol\"\n",
    "data['cas'] = \"71-36-3\" \n",
    "data['family'] = \"n-alcohols\"\n",
    "\n",
    "data.to_csv(\"demo_data/butanol_data.csv\",index=False)\n",
    "\n",
    "data.head()"
   ]
  },
  {
   "cell_type": "markdown",
   "id": "f32c31e3",
   "metadata": {},
   "source": [
    "### Build and Load NN\n",
    "\n",
    "Finally we can build our NN model with the optimized hyperparmeters. Then we load and apply the model weights."
   ]
  },
  {
   "cell_type": "code",
   "execution_count": 4,
   "id": "868dd81c-c7a5-44f7-bd5e-7698079a3715",
   "metadata": {},
   "outputs": [
    {
     "data": {
      "text/plain": [
       "{'val_loss': 5.363227683119476e-05,\n",
       " 'val_l1': 0.0036629082169383764,\n",
       " 'train_loss': 2.1686162654077634e-05,\n",
       " 'train_l1': 0.002796189161017537,\n",
       " 'epoch': 73,\n",
       " 'i_re_best': '0',\n",
       " 'timestamp': 1734230225,\n",
       " 'checkpoint_dir_name': 'checkpoint_000000',\n",
       " 'should_checkpoint': True,\n",
       " 'done': True,\n",
       " 'training_iteration': 1,\n",
       " 'trial_id': 'e5144_00142',\n",
       " 'date': '2024-12-15_03-37-05',\n",
       " 'time_this_iter_s': 444.7897574901581,\n",
       " 'time_total_s': 444.7897574901581,\n",
       " 'pid': 4145084,\n",
       " 'hostname': 'wolfgang-cpu04',\n",
       " 'node_ip': '192.168.8.24',\n",
       " 'config': {'lr': 0.001,\n",
       "  'batch_size': 32,\n",
       "  'n_layers_ref': 4,\n",
       "  'n_nodes_ref': 36,\n",
       "  'n_nodes_feature_ref': 36,\n",
       "  'n_features_ref': 8,\n",
       "  'n_features': 8,\n",
       "  'n_layers_parameter': 2,\n",
       "  'n_nodes_parameter': 82,\n",
       "  'n_nodes_entropy_feature': 16},\n",
       " 'time_since_restore': 444.7897574901581,\n",
       " 'iterations_since_restore': 1,\n",
       " 'experiment_tag': '142_batch_size=32,lr=0.0010,n_features=8,n_features_ref=8,n_layers_parameter=2,n_layers_ref=4,n_nodes_entropy_feature=16,n_nodes_feature_ref=36,n_nodes_parameter=82,n_nodes_ref=36',\n",
       " 'lr': 0.001,\n",
       " 'batch_size': 32,\n",
       " 'n_layers_ref': 4,\n",
       " 'n_nodes_ref': 36,\n",
       " 'n_nodes_feature_ref': 36,\n",
       " 'n_features_ref': 8,\n",
       " 'n_features': 8,\n",
       " 'n_layers_parameter': 2,\n",
       " 'n_nodes_parameter': 82,\n",
       " 'n_nodes_entropy_feature': 16,\n",
       " 'data_csv_train': '/data/work/ac135066/workspace/deep_entropy_2/data/vis_entropy_train_k7_deduped.csv',\n",
       " 'data_csv_val': '/data/work/ac135066/workspace/deep_entropy_2/data/vis_entropy_val_k7_deduped.csv',\n",
       " 'data_csv_test': '/data/work/ac135066/workspace/deep_entropy_2/data/vis_entropy_test_k7_deduped.csv',\n",
       " 'embedding_size': 7,\n",
       " 'build': 'model0_ci_norm2',\n",
       " 'model_path': '/data/work/ac135066/workspace/deep_entropy_2/train_model0_ci_norm22/train71/',\n",
       " 'checkpoint_path': '/data/work/ac135066/workspace/deep_entropy_2/train_model0_ci_norm22/train71/checkpoint.pt',\n",
       " 'n_entropy_features': 8,\n",
       " 'checkpoint_path_native': '/tmp/checkpoint_tmp_6c63bb88d4cf4d36b4cfbde1a8554281/checkpoint.pt',\n",
       " 'loss': {'training': 0.036177102570178477,\n",
       "  'validation': 0.06803802452896335,\n",
       "  'test': 0.2770408431239524},\n",
       " 'l1': {'training': 2.589245004579425,\n",
       "  'validation': 2.8426268552429974,\n",
       "  'test': 3.070628332643537}}"
      ]
     },
     "execution_count": 4,
     "metadata": {},
     "output_type": "execute_result"
    }
   ],
   "source": [
    "path = \"train71/\"\n",
    "\n",
    "with open(path+\"best_result_config.json\") as f:\n",
    "    config = json.load(f)\n",
    "\n",
    "config"
   ]
  },
  {
   "cell_type": "code",
   "execution_count": 5,
   "id": "006d3813-0508-4b3d-aeb5-f72542b719b5",
   "metadata": {},
   "outputs": [
    {
     "name": "stdout",
     "output_type": "stream",
     "text": [
      "load model0_ci_norm2: model0_ci_norm2\n",
      "linear io 1 36\n",
      "relu\n",
      "linear io 36 36\n",
      "relu\n",
      "linear io 36 36\n",
      "relu\n",
      "linear io 36 36\n",
      "relu\n",
      "linear io 36 8\n",
      "linear io 7 36\n",
      "relu\n",
      "linear io 36 36\n",
      "relu\n",
      "linear io 36 36\n",
      "relu\n",
      "linear io 36 36\n",
      "relu\n",
      "linear io 36 9\n",
      "linear io 1 16\n",
      "relu\n",
      "linear io 16 16\n",
      "relu\n",
      "linear io 16 8\n",
      "linear io 15 82\n",
      "relu\n",
      "linear io 82 82\n",
      "relu\n",
      "linear io 82 9\n"
     ]
    }
   ],
   "source": [
    "config[\"checkpoint_path\"] = path+\"checkpoint.pt\"\n",
    "model = load_model0(config)"
   ]
  },
  {
   "cell_type": "markdown",
   "id": "23218a0f",
   "metadata": {},
   "source": [
    "### Build Dataset\n",
    "\n",
    "After loading the data we can generate the dataset used for predictions.\n",
    "Since the neural network operates with normalised inputs, the normalisation rules must be loaded and applied to the dataset. The polynomial features are also added. This all happens automatically."
   ]
  },
  {
   "cell_type": "code",
   "execution_count": 6,
   "id": "d604ccc0",
   "metadata": {},
   "outputs": [],
   "source": [
    "y_features = [\"log_value\"]\n",
    "\n",
    "scalerX = minmax_from_json(path+'Xscaler.json')\n",
    "scalerY = minmax_from_json(path+'Yscaler.json')    \n",
    "\n",
    "demo_data = dataset(data_path, y_features=y_features,\n",
    "                             scalerX=scalerX, scalerY=scalerY, keepXY=True)"
   ]
  },
  {
   "cell_type": "markdown",
   "id": "ab69b97e",
   "metadata": {},
   "source": [
    "### Predict viscosities\n",
    "\n",
    "Now we can use the model to predict viscosities. The model predicts the normed log of the viscosity in milli pascal seconds (mPas)."
   ]
  },
  {
   "cell_type": "code",
   "execution_count": 7,
   "id": "084ff7c8",
   "metadata": {},
   "outputs": [],
   "source": [
    "y_pred = model(demo_data.X_scaled).detach().numpy()"
   ]
  },
  {
   "cell_type": "markdown",
   "id": "462bae40",
   "metadata": {},
   "source": [
    "### Compare Predictions with Experimental Results\n",
    "\n",
    "The predictions can be compared to experimental results.\n",
    "\n",
    "#### Agreement between prediction and experiment is good.\n"
   ]
  },
  {
   "cell_type": "code",
   "execution_count": 8,
   "id": "86947f86",
   "metadata": {
    "scrolled": true
   },
   "outputs": [
    {
     "data": {
      "image/png": "[encoded data removed]",
      "text/plain": [
       "<Figure size 640x480 with 1 Axes>"
      ]
     },
     "metadata": {},
     "output_type": "display_data"
    },
    {
     "name": "stdout",
     "output_type": "stream",
     "text": [
      "MEAD:  11.15 %\n"
     ]
    }
   ],
   "source": [
    "y  = np.squeeze( demo_data.scalerY.inverse_transform(y_pred) )\n",
    "yy = np.exp( y )\n",
    "y_exp = data[\"log_value\"]\n",
    "y_eexp = np.exp( y_exp )\n",
    "\n",
    "plt.plot( data[\"resd_entropy\"], y_exp, \"kx\", label=\"experimental\" )\n",
    "plt.plot( data[\"resd_entropy\"], y, \".\", label=\"prediction\" )\n",
    "plt.legend()\n",
    "plt.xlabel(\"residual entropy\")\n",
    "plt.ylabel(r\"ln($\\eta$)\")\n",
    "plt.show()\n",
    "plt.close()\n",
    "\n",
    "#plt.plot( data[\"temperature\"], y_exp, \"kx\", label=\"experimental\" )\n",
    "#plt.plot( data[\"temperature\"], yy, \".\", label=\"prediction\" )\n",
    "#plt.legend()\n",
    "#plt.xlabel(\"temperature / K\")\n",
    "#plt.ylabel(\"viscosity / MPas\")\n",
    "#plt.show()\n",
    "#plt.close()\n",
    "\n",
    "dev =   (yy-y_eexp) / y_eexp\n",
    "\n",
    "print(\"MEAD: \", round(np.mean( np.abs(dev) )*100,2), \"%\" )\n"
   ]
  },
  {
   "cell_type": "code",
   "execution_count": 9,
   "id": "134ab423",
   "metadata": {},
   "outputs": [
    {
     "data": {
      "image/png": "[encoded data removed]",
      "text/plain": [
       "<Figure size 640x480 with 1 Axes>"
      ]
     },
     "metadata": {},
     "output_type": "display_data"
    }
   ],
   "source": [
    "plt.plot( data[\"temperature\"], y_exp, \"kx\", label=\"experimental\" )\n",
    "plt.plot( data[\"temperature\"], y, \".\", label=\"prediction\" )\n",
    "plt.legend()\n",
    "plt.xlabel(\"temperature / K\")\n",
    "plt.ylabel(r\"ln($\\eta$)\")\n",
    "plt.show()\n",
    "plt.close()"
   ]
  },
  {
   "cell_type": "code",
   "execution_count": null,
   "id": "198b95c1-22f0-4544-b622-00984bb4f85e",
   "metadata": {},
   "outputs": [],
   "source": []
  }
 ],
 "metadata": {
  "kernelspec": {
   "display_name": "Python 3 (ipykernel)",
   "language": "python",
   "name": "python3"
  },
  "language_info": {
   "codemirror_mode": {
    "name": "ipython",
    "version": 3
   },
   "file_extension": ".py",
   "mimetype": "text/x-python",
   "name": "python",
   "nbconvert_exporter": "python",
   "pygments_lexer": "ipython3",
   "version": "3.12.3"
  }
 },
 "nbformat": 4,
 "nbformat_minor": 5
}
